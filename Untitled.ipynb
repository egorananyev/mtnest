{
 "cells": [
  {
   "cell_type": "code",
   "execution_count": null,
   "metadata": {},
   "outputs": [],
   "source": [
    "import cv2.cv as cv\n",
    "\n",
    "class FBackDemo:\n",
    "    def __init__(self):\n",
    "        self.capture = cv.CaptureFromCAM(0)\n",
    "        self.mv_step = 16\n",
    "        self.mv_scale = 1.5\n",
    "        self.mv_color = (0, 255, 0)\n",
    "        self.cflow = None\n",
    "        self.flow = None\n",
    "        \n",
    "        cv.NamedWindow( \"Optical Flow\", 1 )\n",
    "\n",
    "        print( \"Press ESC - quit the program\\n\" )\n",
    "\n",
    "    def draw_flow(self, flow, prevgray):\n",
    "        \"\"\" Returns a nice representation of a hue histogram \"\"\"\n",
    "\n",
    "        cv.CvtColor(prevgray, self.cflow, cv.CV_GRAY2BGR)\n",
    "        for y in range(0, flow.height, self.mv_step):\n",
    "            for x in range(0, flow.width, self.mv_step):\n",
    "                fx, fy = flow[y, x]\n",
    "                cv.Line(self.cflow, (x,y), (int(x+fx),int(y+fy)), self.mv_color)\n",
    "                cv.Circle(self.cflow, (x,y), 2, self.mv_color, -1)\n",
    "        cv.ShowImage(\"Optical Flow\", self.cflow)\n",
    "\n",
    "    def run(self):\n",
    "        first_frame = True\n",
    "        \n",
    "        while True:\n",
    "            frame = cv.QueryFrame( self.capture )\n",
    "\n",
    "            if first_frame:\n",
    "                gray = cv.CreateImage(cv.GetSize(frame), 8, 1)\n",
    "                prev_gray = cv.CreateImage(cv.GetSize(frame), 8, 1)\n",
    "                flow = cv.CreateImage(cv.GetSize(frame), 32, 2)\n",
    "                self.cflow = cv.CreateImage(cv.GetSize(frame), 8, 3)\n",
    "                \n",
    "            cv.CvtColor(frame, gray, cv.CV_BGR2GRAY)\n",
    "            \n",
    "            if not first_frame:\n",
    "                cv.CalcOpticalFlowFarneback(prev_gray, gray, flow,\n",
    "                    pyr_scale=0.5, levels=3, winsize=15,\n",
    "                    iterations=3, poly_n=5, poly_sigma=1.2, flags=0)\n",
    "                self.draw_flow(flow, prev_gray)\n",
    "                c = cv.WaitKey(7)\n",
    "                if c in [27, ord('q'), ord('Q')]:\n",
    "                    break\n",
    "                    \n",
    "            prev_gray, gray = gray, prev_gray        \n",
    "            first_frame = False\n",
    "\n",
    "if __name__==\"__main__\":\n",
    "    demo = FBackDemo()\n",
    "    demo.run()"
   ]
  }
 ],
 "metadata": {
  "kernelspec": {
   "display_name": "Python 3",
   "language": "python",
   "name": "python3"
  },
  "language_info": {
   "codemirror_mode": {
    "name": "ipython",
    "version": 3
   },
   "file_extension": ".py",
   "mimetype": "text/x-python",
   "name": "python",
   "nbconvert_exporter": "python",
   "pygments_lexer": "ipython3",
   "version": "3.7.7"
  }
 },
 "nbformat": 4,
 "nbformat_minor": 4
}
